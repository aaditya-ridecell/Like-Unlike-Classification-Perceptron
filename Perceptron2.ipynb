{
  "nbformat": 4,
  "nbformat_minor": 0,
  "metadata": {
    "colab": {
      "name": "kernel.ipynb",
      "version": "0.3.2",
      "provenance": []
    },
    "kernelspec": {
      "display_name": "Python 3",
      "language": "python",
      "name": "python3"
    }
  },
  "cells": [
    {
      "metadata": {
        "trusted": true,
        "_uuid": "a48fb5f19b3d70150e3ba06143786a9ec975177a",
        "id": "FWwlf9Q3qg_D",
        "colab_type": "code",
        "colab": {}
      },
      "cell_type": "code",
      "source": [
        "import numpy as np\n",
        "import pandas as pd\n",
        "import matplotlib.pyplot as plt\n",
        "from sklearn.preprocessing import LabelEncoder,MinMaxScaler, StandardScaler\n",
        "from sklearn.model_selection import train_test_split, ParameterGrid\n",
        "from sklearn.metrics import accuracy_score, confusion_matrix, mean_squared_error, log_loss\n",
        "import operator\n",
        "import json\n",
        "from IPython import display\n",
        "import os\n",
        "import warnings\n",
        "\n",
        "np.random.seed(0)\n",
        "warnings.filterwarnings(\"ignore\")\n",
        "THRESHOLD = 4"
      ],
      "execution_count": 0,
      "outputs": []
    },
    {
      "metadata": {
        "_uuid": "1f34db9e30a2d030fc78001af73e5e48a826de05",
        "id": "CN_P1ZMQqg_K",
        "colab_type": "text"
      },
      "cell_type": "markdown",
      "source": [
        "Task: To predict whether the user likes the mobile phone or not. <br>\n",
        "Assumption: If the average rating of mobile >= threshold, then the user likes it, otherwise not."
      ]
    },
    {
      "metadata": {
        "_uuid": "d9e5a6909600a3eba9ede0126d088a1d6b1f2692",
        "id": "HDjyrZ91qg_L",
        "colab_type": "text"
      },
      "cell_type": "markdown",
      "source": [
        "<b>Missing values:</b><br>\n",
        "'Also Known As'(459),'Applications'(421),'Audio Features'(437),'Bezel-less display'(266),'Browser'(449),'Build Material'(338),'Co-Processor'(451),'Display Colour'(457),'Mobile High-Definition Link(MHL)'(472),'Music'(447)\n",
        "'Email','Fingerprint Sensor Position'(174),'Games'(446),'HDMI'(454),'Heart Rate Monitor'(467),'IRIS Scanner'(467),\n",
        "'Optical Image Stabilisation'(219),'Other Facilities'(444),'Phone Book'(444),'Physical Aperture'(87),'Quick Charging'(122),'Ring Tone'(444),'Ruggedness'(430),SAR Value(315),'SIM 3'(472),'SMS'(470)', 'Screen Protection'(229),'Screen to Body Ratio (claimed by the brand)'(428),'Sensor'(242),'Software Based Aperture'(473),\n",
        "'Special Features'(459),'Standby time'(334),'Stylus'(473),'TalkTime'(259), 'USB Type-C'(374),'Video Player'(456),\n",
        "'Video Recording Features'(458),'Waterproof'(398),'Wireless Charging','USB OTG Support'(159), 'Video ,'Recording'(113),'Java'(471),'Browser'(448)\n",
        "\n",
        "<b>Very low variance:</b><br>\n",
        "'Architecture'(most entries are 64-bit),'Audio Jack','GPS','Loudspeaker','Network','Network Support','Other Sensors'(28),'SIM Size', 'VoLTE'\n",
        "\n",
        "\n",
        "<b>Multivalued:</b><br>\n",
        "'Colours','Custom UI','Model'(1),'Other Sensors','Launch Date'\n",
        "\n",
        "<b>Not important:</b><br>\n",
        "'Bluetooth', 'Settings'(75),'Wi-Fi','Wi-Fi Features'\n",
        "\n",
        "<b>Doubtful:</b><br>\n",
        "'Aspect Ratio','Autofocus','Brand','Camera Features','Fingerprint Sensor'(very few entries are missing),\n",
        "'Fingerprint Sensor Position', 'Graphics'(multivalued),'Image resolution'(multivalued),'SIM Size','Sim Slot(s)', 'User Available Storage', 'SIM 1', 'SIM 2','Shooting Modes', 'Touch Screen'(24), 'USB Connectivity'\n",
        "    \n",
        "<b>To check:</b><br>\n",
        "'Display Type','Expandable Memory','FM Radio'\n",
        "\n",
        "<b>High Correlation with other features</b><br>\n",
        "'SIM Slot(s)' high correlation with SIM1\n",
        "'Weight' has high high correlation with capacity , screen-to-body ratio\n",
        "'Height' - screen size is also there\n",
        "    \n",
        "<b>Given a mobile, we can't directly get these features</b><br>\n",
        "'Rating Count', 'Review Count'\n",
        "\n",
        "<b>Keeping:</b><br>\n",
        "'Capacity','Flash'(17),'Height'(22),'Internal Memory'(20, require cleaning),'Operating System'(25, require cleaning), 'Pixel Density'(1, clean it),'Processor'(22, clean it), 'RAM'(17, clean), 'Rating','Resolution'(cleaning), 'Screen Resolution','Screen Size', 'Thickness'(22), 'Type','User Replaceable','Weight'(cleaning),'Sim Size'(), 'Other Sensors'(28), 'Screen to Body Ratio (calculated)','Width',\n"
      ]
    },
    {
      "metadata": {
        "trusted": true,
        "_uuid": "09a11a2f73a2ebb3ba2fb7926cebc7a91a37a230",
        "id": "n5L8LxEOqg_M",
        "colab_type": "code",
        "colab": {},
        "outputId": "172eee5f-c5d1-4fdf-c242-ebe7c6cead4a"
      },
      "cell_type": "code",
      "source": [
        "# read data from file\n",
        "train = pd.read_csv(\"../input/train.csv\") \n",
        "test = pd.read_csv(\"../input/test.csv\")\n",
        "\n",
        "# check the number of features and data points in train\n",
        "print(\"Number of data points in train: %d\" % train.shape[0])\n",
        "print(\"Number of features in train: %d\" % train.shape[1])\n",
        "\n",
        "# check the number of features and data points in test\n",
        "print(\"Number of data points in test: %d\" % test.shape[0])\n",
        "print(\"Number of features in test: %d\" % test.shape[1])"
      ],
      "execution_count": 0,
      "outputs": [
        {
          "output_type": "stream",
          "text": [
            "Number of data points in train: 355\n",
            "Number of features in train: 99\n",
            "Number of data points in test: 119\n",
            "Number of features in test: 98\n"
          ],
          "name": "stdout"
        }
      ]
    },
    {
      "metadata": {
        "trusted": true,
        "_uuid": "a6df4b410c2c43b8a8ad5c447221f8df85088856",
        "id": "bTQjZ1M6qg_V",
        "colab_type": "code",
        "colab": {}
      },
      "cell_type": "code",
      "source": [
        "def data_clean(data):\n",
        "    \n",
        "    # Let's first remove all missing value features\n",
        "    columns_to_remove = ['Also Known As','Applications','Audio Features','Bezel-less display'\n",
        "                         'Browser','Build Material','Co-Processor','Browser'\n",
        "                         'Display Colour','Mobile High-Definition Link(MHL)',\n",
        "                         'Music', 'Email','Fingerprint Sensor Position',\n",
        "                         'Games','HDMI','Heart Rate Monitor','IRIS Scanner', \n",
        "                         'Optical Image Stabilisation','Other Facilities',\n",
        "                         'Phone Book','Physical Aperture','Quick Charging',\n",
        "                         'Ring Tone','Ruggedness','SAR Value','SIM 3','SMS',\n",
        "                         'Screen Protection','Screen to Body Ratio (claimed by the brand)',\n",
        "                         'Sensor','Software Based Aperture', 'Special Features',\n",
        "                         'Standby time','Stylus','TalkTime', 'USB Type-C',\n",
        "                         'Video Player', 'Video Recording Features','Waterproof',\n",
        "                         'Wireless Charging','USB OTG Support', 'Video Recording','Java']\n",
        "\n",
        "    columns_to_retain = list(set(data.columns)-set(columns_to_remove))\n",
        "    data = data[columns_to_retain]\n",
        "\n",
        "    #Features having very low variance \n",
        "    columns_to_remove = ['Architecture','Audio Jack','GPS','Loudspeaker','Network','Network Support','VoLTE']\n",
        "    columns_to_retain = list(set(data.columns)-set(columns_to_remove))\n",
        "    data = data[columns_to_retain]\n",
        "\n",
        "    # Multivalued:\n",
        "    columns_to_remove = ['Architecture','Launch Date','Audio Jack','GPS','Loudspeaker','Network','Network Support','VoLTE', 'Custom UI']\n",
        "    columns_to_retain = list(set(data.columns)-set(columns_to_remove))\n",
        "    data = data[columns_to_retain]\n",
        "\n",
        "    # Not much important\n",
        "    columns_to_remove = ['Bluetooth', 'Settings','Wi-Fi','Wi-Fi Features']\n",
        "    columns_to_retain = list(set(data.columns)-set(columns_to_remove))\n",
        "    data = data[columns_to_retain]\n",
        "    \n",
        "    return data"
      ],
      "execution_count": 0,
      "outputs": []
    },
    {
      "metadata": {
        "_uuid": "4c652bb0b6be1f9359b0b60e83675ef5a338993f",
        "id": "TVfHa5Coqg_Y",
        "colab_type": "text"
      },
      "cell_type": "markdown",
      "source": [
        "# Removing features"
      ]
    },
    {
      "metadata": {
        "trusted": true,
        "_uuid": "1de8c425c0d7f410e69399d1a52b20898823c15a",
        "id": "1T4BLxVsqg_Z",
        "colab_type": "code",
        "colab": {}
      },
      "cell_type": "code",
      "source": [
        "train = data_clean(train)\n",
        "test = data_clean(test)"
      ],
      "execution_count": 0,
      "outputs": []
    },
    {
      "metadata": {
        "_uuid": "ab46a691825286ed8edabfee0e3396637a5d189a",
        "id": "8CxBJSnKqg_d",
        "colab_type": "text"
      },
      "cell_type": "markdown",
      "source": [
        "removing all those data points in which more than 15 features are missing "
      ]
    },
    {
      "metadata": {
        "trusted": true,
        "_uuid": "ce7b3e446f8c99b9f7102b9829b1f0790020f380",
        "id": "lBIuWbc5qg_e",
        "colab_type": "code",
        "colab": {}
      },
      "cell_type": "code",
      "source": [
        "train = train[(train.isnull().sum(axis=1) <= 15)]\n",
        "# You shouldn't remove data points from test set\n",
        "#test = test[(test.isnull().sum(axis=1) <= 15)]"
      ],
      "execution_count": 0,
      "outputs": []
    },
    {
      "metadata": {
        "trusted": true,
        "_uuid": "8141cdd1099d51407482aedd0adcc7bf99e795b4",
        "id": "4nWRSNyNqg_h",
        "colab_type": "code",
        "colab": {},
        "outputId": "c95062d6-5802-4a9f-9a88-39f2caf76d86"
      },
      "cell_type": "code",
      "source": [
        "# check the number of features and data points in train\n",
        "print(\"Number of data points in train: %d\" % train.shape[0])\n",
        "print(\"Number of features in train: %d\" % train.shape[1])\n",
        "\n",
        "# check the number of features and data points in test\n",
        "print(\"Number of data points in test: %d\" % test.shape[0])\n",
        "print(\"Number of features in test: %d\" % test.shape[1])"
      ],
      "execution_count": 0,
      "outputs": [
        {
          "output_type": "stream",
          "text": [
            "Number of data points in train: 341\n",
            "Number of features in train: 47\n",
            "Number of data points in test: 119\n",
            "Number of features in test: 46\n"
          ],
          "name": "stdout"
        }
      ]
    },
    {
      "metadata": {
        "_uuid": "fb1e6dbeec35fc2fd51efa7b65f973dfa86e185b",
        "id": "VQUVnai5qg_o",
        "colab_type": "text"
      },
      "cell_type": "markdown",
      "source": [
        "# Filling Missing values"
      ]
    },
    {
      "metadata": {
        "trusted": true,
        "_uuid": "c4e6a2f635f3db85c350a124fc33836bb125db02",
        "id": "CgrzLCiuqg_p",
        "colab_type": "code",
        "colab": {}
      },
      "cell_type": "code",
      "source": [
        "def for_integer(test):\n",
        "    try:\n",
        "        test = test.strip()\n",
        "        return int(test.split(' ')[0])\n",
        "    except IOError:\n",
        "           pass\n",
        "    except ValueError:\n",
        "        pass\n",
        "    except:\n",
        "        pass\n",
        "\n",
        "def for_string(test):\n",
        "    try:\n",
        "        test = test.strip()\n",
        "        return (test.split(' ')[0])\n",
        "    except IOError:\n",
        "        pass\n",
        "    except ValueError:\n",
        "        pass\n",
        "    except:\n",
        "        pass\n",
        "\n",
        "def for_float(test):\n",
        "    try:\n",
        "        test = test.strip()\n",
        "        return float(test.split(' ')[0])\n",
        "    except IOError:\n",
        "        pass\n",
        "    except ValueError:\n",
        "        pass\n",
        "    except:\n",
        "        pass\n",
        "def find_freq(test):\n",
        "    try:\n",
        "        test = test.strip()\n",
        "        test = test.split(' ')\n",
        "        if test[2][0] == '(':\n",
        "            return float(test[2][1:])\n",
        "        return float(test[2])\n",
        "    except IOError:\n",
        "        pass\n",
        "    except ValueError:\n",
        "        pass\n",
        "    except:\n",
        "        pass\n",
        "\n",
        "    \n",
        "def for_Internal_Memory(test):\n",
        "    try:\n",
        "        test = test.strip()\n",
        "        test = test.split(' ')\n",
        "        if test[1] == 'GB':\n",
        "            return int(test[0])\n",
        "        if test[1] == 'MB':\n",
        "#             print(\"here\")\n",
        "            return (int(test[0]) * 0.001)\n",
        "    except IOError:\n",
        "           pass\n",
        "    except ValueError:\n",
        "        pass\n",
        "    except:\n",
        "        pass\n",
        "    \n",
        "def find_freq(test):\n",
        "    try:\n",
        "        test = test.strip()\n",
        "        test = test.split(' ')\n",
        "        if test[2][0] == '(':\n",
        "            return float(test[2][1:])\n",
        "        return float(test[2])\n",
        "    except IOError:\n",
        "        pass\n",
        "    except ValueError:\n",
        "        pass\n",
        "    except:\n",
        "        pass\n"
      ],
      "execution_count": 0,
      "outputs": []
    },
    {
      "metadata": {
        "trusted": true,
        "_uuid": "26127c5c53b9737e83bfc6ac20b4442b665b9fe1",
        "id": "-RV6DaBpqg_s",
        "colab_type": "code",
        "colab": {}
      },
      "cell_type": "code",
      "source": [
        "def data_clean_2(x):\n",
        "    data = x.copy()\n",
        "    \n",
        "    data['Capacity'] = data['Capacity'].apply(for_integer)\n",
        "\n",
        "    data['Height'] = data['Height'].apply(for_float)\n",
        "    data['Height'] = data['Height'].fillna(data['Height'].mean())\n",
        "\n",
        "    data['Internal Memory'] = data['Internal Memory'].apply(for_Internal_Memory)\n",
        "\n",
        "    data['Pixel Density'] = data['Pixel Density'].apply(for_integer)\n",
        "\n",
        "    data['Internal Memory'] = data['Internal Memory'].fillna(data['Internal Memory'].median())\n",
        "    data['Internal Memory'] = data['Internal Memory'].astype(int)\n",
        "\n",
        "    data['RAM'] = data['RAM'].apply(for_integer)\n",
        "    data['RAM'] = data['RAM'].fillna(data['RAM'].median())\n",
        "    data['RAM'] = data['RAM'].astype(int)\n",
        "\n",
        "    data['Resolution'] = data['Resolution'].apply(for_integer)\n",
        "    data['Resolution'] = data['Resolution'].fillna(data['Resolution'].median())\n",
        "    data['Resolution'] = data['Resolution'].astype(int)\n",
        "\n",
        "    data['Screen Size'] = data['Screen Size'].apply(for_float)\n",
        "\n",
        "    data['Thickness'] = data['Thickness'].apply(for_float)\n",
        "    data['Thickness'] = data['Thickness'].fillna(data['Thickness'].mean())\n",
        "    data['Thickness'] = data['Thickness'].round(2)\n",
        "\n",
        "    data['Type'] = data['Type'].fillna('Li-Polymer')\n",
        "\n",
        "    data['Screen to Body Ratio (calculated)'] = data['Screen to Body Ratio (calculated)'].apply(for_float)\n",
        "    data['Screen to Body Ratio (calculated)'] = data['Screen to Body Ratio (calculated)'].fillna(data['Screen to Body Ratio (calculated)'].mean())\n",
        "    data['Screen to Body Ratio (calculated)'] = data['Screen to Body Ratio (calculated)'].round(2)\n",
        "\n",
        "    data['Width'] = data['Width'].apply(for_float)\n",
        "    data['Width'] = data['Width'].fillna(data['Width'].mean())\n",
        "    data['Width'] = data['Width'].round(2)\n",
        "\n",
        "    data['Flash'][data['Flash'].isna() == True] = \"Other\"\n",
        "\n",
        "    data['User Replaceable'][data['User Replaceable'].isna() == True] = \"Other\"\n",
        "\n",
        "    data['Num_cores'] = data['Processor'].apply(for_string)\n",
        "    data['Num_cores'][data['Num_cores'].isna() == True] = \"Other\"\n",
        "\n",
        "\n",
        "    data['Processor_frequency'] = data['Processor'].apply(find_freq)\n",
        "    #because there is one entry with 208MHz values, to convert it to GHz\n",
        "    data['Processor_frequency'][data['Processor_frequency'] > 200] = 0.208\n",
        "    data['Processor_frequency'] = data['Processor_frequency'].fillna(data['Processor_frequency'].mean())\n",
        "    data['Processor_frequency'] = data['Processor_frequency'].round(2)\n",
        "\n",
        "    data['Camera Features'][data['Camera Features'].isna() == True] = \"Other\"\n",
        "\n",
        "    #simplifyig Operating System to os_name for simplicity\n",
        "    data['os_name'] = data['Operating System'].apply(for_string)\n",
        "    data['os_name'][data['os_name'].isna() == True] = \"Other\"\n",
        "\n",
        "    data['Sim1'] = data['SIM 1'].apply(for_string)\n",
        "\n",
        "    data['SIM Size'][data['SIM Size'].isna() == True] = \"Other\"\n",
        "\n",
        "    data['Image Resolution'][data['Image Resolution'].isna() == True] = \"Other\"\n",
        "\n",
        "    data['Fingerprint Sensor'][data['Fingerprint Sensor'].isna() == True] = \"Other\"\n",
        "\n",
        "    data['Expandable Memory'][data['Expandable Memory'].isna() == True] = \"No\"\n",
        "\n",
        "    data['Weight'] = data['Weight'].apply(for_integer)\n",
        "    data['Weight'] = data['Weight'].fillna(data['Weight'].mean())\n",
        "    data['Weight'] = data['Weight'].astype(int)\n",
        "\n",
        "    data['SIM 2'] = data['SIM 2'].apply(for_string)\n",
        "    data['SIM 2'][data['SIM 2'].isna() == True] = \"Other\"\n",
        "    \n",
        "    return data"
      ],
      "execution_count": 0,
      "outputs": []
    },
    {
      "metadata": {
        "trusted": true,
        "_uuid": "8577a2cf922f1a69369da85f91a8faf434f95525",
        "id": "-MF6Zcthqg_v",
        "colab_type": "code",
        "colab": {},
        "outputId": "a2b4d255-ab80-400a-bdf9-458b0de2bc3b"
      },
      "cell_type": "code",
      "source": [
        "train = data_clean_2(train)\n",
        "test = data_clean_2(test)\n",
        "\n",
        "# check the number of features and data points in train\n",
        "print(\"Number of data points in train: %d\" % train.shape[0])\n",
        "print(\"Number of features in train: %d\" % train.shape[1])\n",
        "\n",
        "# check the number of features and data points in test\n",
        "print(\"Number of data points in test: %d\" % test.shape[0])\n",
        "print(\"Number of features in test: %d\" % test.shape[1])"
      ],
      "execution_count": 0,
      "outputs": [
        {
          "output_type": "stream",
          "text": [
            "Number of data points in train: 341\n",
            "Number of features in train: 51\n",
            "Number of data points in test: 119\n",
            "Number of features in test: 50\n"
          ],
          "name": "stdout"
        }
      ]
    },
    {
      "metadata": {
        "_uuid": "7a5e9846327d98dc1b85ee746252b4ab172e981b",
        "id": "BKKhOVCJqg_z",
        "colab_type": "text"
      },
      "cell_type": "markdown",
      "source": [
        "Not very important feature"
      ]
    },
    {
      "metadata": {
        "trusted": true,
        "_uuid": "3b33d0dafb6bf6928659cb8b3158cff0ae56956c",
        "id": "eMXPZbFlqg_1",
        "colab_type": "code",
        "colab": {}
      },
      "cell_type": "code",
      "source": [
        "def data_clean_3(x):\n",
        "    \n",
        "    data = x.copy()\n",
        "\n",
        "    columns_to_remove = ['User Available Storage','SIM Size','Chipset','Processor','Autofocus','Aspect Ratio','Touch Screen',\n",
        "                        'Bezel-less display','Operating System','SIM 1','USB Connectivity','Other Sensors','Graphics','FM Radio',\n",
        "                        'NFC','Shooting Modes','Browser','Display Colour' ]\n",
        "\n",
        "    columns_to_retain = list(set(data.columns)-set(columns_to_remove))\n",
        "    data = data[columns_to_retain]\n",
        "\n",
        "\n",
        "    columns_to_remove = [ 'Screen Resolution','User Replaceable','Camera Features',\n",
        "                        'Thickness', 'Display Type']\n",
        "\n",
        "    columns_to_retain = list(set(data.columns)-set(columns_to_remove))\n",
        "    data = data[columns_to_retain]\n",
        "\n",
        "\n",
        "    columns_to_remove = ['Fingerprint Sensor', 'Flash', 'Rating Count', 'Review Count','Image Resolution','Type','Expandable Memory',\\\n",
        "                        'Colours','Width','Model']\n",
        "    columns_to_retain = list(set(data.columns)-set(columns_to_remove))\n",
        "    data = data[columns_to_retain]\n",
        "\n",
        "    return data"
      ],
      "execution_count": 0,
      "outputs": []
    },
    {
      "metadata": {
        "trusted": true,
        "_uuid": "1d41e11c7ee19e787bbb1ab936c60f60ed565aa8",
        "id": "P-Gl-KWOqg_5",
        "colab_type": "code",
        "colab": {},
        "outputId": "f65778b1-1a83-443b-edf2-8ca0f70be553"
      },
      "cell_type": "code",
      "source": [
        "train = data_clean_3(train)\n",
        "test = data_clean_3(test)\n",
        "\n",
        "# check the number of features and data points in train\n",
        "print(\"Number of data points in train: %d\" % train.shape[0])\n",
        "print(\"Number of features in train: %d\" % train.shape[1])\n",
        "\n",
        "# check the number of features and data points in test\n",
        "print(\"Number of data points in test: %d\" % test.shape[0])\n",
        "print(\"Number of features in test: %d\" % test.shape[1])"
      ],
      "execution_count": 0,
      "outputs": [
        {
          "output_type": "stream",
          "text": [
            "Number of data points in train: 341\n",
            "Number of features in train: 18\n",
            "Number of data points in test: 119\n",
            "Number of features in test: 17\n"
          ],
          "name": "stdout"
        }
      ]
    },
    {
      "metadata": {
        "trusted": true,
        "_uuid": "ce2d922ac50dbf8739510c6dfe0677c96ab6d081",
        "id": "DHXCR_UYqg_8",
        "colab_type": "code",
        "colab": {},
        "outputId": "e201673c-c7a7-49a8-b441-0bcb21cf0903"
      },
      "cell_type": "code",
      "source": [
        "# one hot encoding\n",
        "\n",
        "train_ids = train['PhoneId']\n",
        "test_ids = test['PhoneId']\n",
        "\n",
        "cols = list(test.columns)\n",
        "cols.remove('PhoneId')\n",
        "cols.insert(0, 'PhoneId')\n",
        "\n",
        "combined = pd.concat([train.drop('Rating', axis=1)[cols], test[cols]])\n",
        "print(combined.shape)\n",
        "print(combined.columns)\n",
        "\n",
        "combined = pd.get_dummies(combined)\n",
        "print(combined.shape)\n",
        "print(combined.columns)\n",
        "\n",
        "train_new = combined[combined['PhoneId'].isin(train_ids)]\n",
        "test_new = combined[combined['PhoneId'].isin(test_ids)]"
      ],
      "execution_count": 0,
      "outputs": [
        {
          "output_type": "stream",
          "text": [
            "(460, 17)\n",
            "Index(['PhoneId', 'Screen to Body Ratio (calculated)', 'Sim1', 'Capacity',\n",
            "       'Height', 'RAM', 'Processor_frequency', 'Resolution', 'Screen Size',\n",
            "       'SIM Slot(s)', 'SIM 2', 'Weight', 'Pixel Density', 'Internal Memory',\n",
            "       'Num_cores', 'Brand', 'os_name'],\n",
            "      dtype='object')\n",
            "(460, 87)\n",
            "Index(['PhoneId', 'Screen to Body Ratio (calculated)', 'Capacity', 'Height',\n",
            "       'RAM', 'Processor_frequency', 'Resolution', 'Screen Size', 'Weight',\n",
            "       'Pixel Density', 'Internal Memory', 'Sim1_2G', 'Sim1_3G', 'Sim1_4G',\n",
            "       'SIM Slot(s)_Dual SIM, GSM+CDMA', 'SIM Slot(s)_Dual SIM, GSM+GSM',\n",
            "       'SIM Slot(s)_Dual SIM, GSM+GSM, Dual VoLTE',\n",
            "       'SIM Slot(s)_Single SIM, GSM', 'SIM 2_2G', 'SIM 2_3G', 'SIM 2_4G',\n",
            "       'SIM 2_Other', 'Num_cores_312', 'Num_cores_Deca', 'Num_cores_Dual',\n",
            "       'Num_cores_Hexa', 'Num_cores_Octa', 'Num_cores_Other', 'Num_cores_Quad',\n",
            "       'Num_cores_Tru-Octa', 'Brand_10.or', 'Brand_Apple', 'Brand_Asus',\n",
            "       'Brand_Billion', 'Brand_Blackberry', 'Brand_Comio', 'Brand_Coolpad',\n",
            "       'Brand_Do', 'Brand_Gionee', 'Brand_Google', 'Brand_HTC', 'Brand_Honor',\n",
            "       'Brand_Huawei', 'Brand_InFocus', 'Brand_Infinix', 'Brand_Intex',\n",
            "       'Brand_Itel', 'Brand_Jivi', 'Brand_Karbonn', 'Brand_LG', 'Brand_Lava',\n",
            "       'Brand_LeEco', 'Brand_Lenovo', 'Brand_Lephone', 'Brand_Lyf',\n",
            "       'Brand_Meizu', 'Brand_Micromax', 'Brand_Mobiistar', 'Brand_Moto',\n",
            "       'Brand_Motorola', 'Brand_Nokia', 'Brand_Nubia', 'Brand_OPPO',\n",
            "       'Brand_OnePlus', 'Brand_Oppo', 'Brand_Panasonic', 'Brand_Razer',\n",
            "       'Brand_Realme', 'Brand_Reliance', 'Brand_Samsung', 'Brand_Sony',\n",
            "       'Brand_Spice', 'Brand_Tecno', 'Brand_Ulefone', 'Brand_VOTO',\n",
            "       'Brand_Vivo', 'Brand_Xiaomi', 'Brand_Xiaomi Poco', 'Brand_Yu',\n",
            "       'Brand_iVooMi', 'os_name_Android', 'os_name_Blackberry', 'os_name_KAI',\n",
            "       'os_name_Nokia', 'os_name_Other', 'os_name_Tizen', 'os_name_iOS'],\n",
            "      dtype='object')\n"
          ],
          "name": "stdout"
        }
      ]
    },
    {
      "metadata": {
        "trusted": true,
        "_uuid": "1022f33937ef959f3a5e77f8d98663db31575bbd",
        "id": "xbptJVRVqhAA",
        "colab_type": "code",
        "colab": {}
      },
      "cell_type": "code",
      "source": [
        "train_new = train_new.merge(train[['PhoneId', 'Rating']], on='PhoneId')"
      ],
      "execution_count": 0,
      "outputs": []
    },
    {
      "metadata": {
        "trusted": true,
        "_uuid": "fb908db0c26106a4db2eb93b2d6ba0fcf6134f94",
        "id": "v1L4heP-qhAD",
        "colab_type": "code",
        "colab": {},
        "outputId": "0410f336-5a9b-4a35-d418-3fd49e3ecc8d"
      },
      "cell_type": "code",
      "source": [
        "# check the number of features and data points in train\n",
        "print(\"Number of data points in train: %d\" % train_new.shape[0])\n",
        "print(\"Number of features in train: %d\" % train_new.shape[1])\n",
        "\n",
        "# check the number of features and data points in test\n",
        "print(\"Number of data points in test: %d\" % test_new.shape[0])\n",
        "print(\"Number of features in test: %d\" % test_new.shape[1])"
      ],
      "execution_count": 0,
      "outputs": [
        {
          "output_type": "stream",
          "text": [
            "Number of data points in train: 341\n",
            "Number of features in train: 88\n",
            "Number of data points in test: 119\n",
            "Number of features in test: 87\n"
          ],
          "name": "stdout"
        }
      ]
    },
    {
      "metadata": {
        "trusted": true,
        "_uuid": "03baf9220fe52b61af90bd16ceb5743942e59b70",
        "id": "1qz7SSoBqhAL",
        "colab_type": "code",
        "colab": {}
      },
      "cell_type": "code",
      "source": [
        "train_new.head()"
      ],
      "execution_count": 0,
      "outputs": []
    },
    {
      "metadata": {
        "trusted": true,
        "_uuid": "93bc74c7ada1a0afee7f0b49a9decf4476b6fb43",
        "id": "pG5sYTNSqhAO",
        "colab_type": "code",
        "colab": {}
      },
      "cell_type": "code",
      "source": [
        "test_new.head()"
      ],
      "execution_count": 0,
      "outputs": []
    },
    {
      "metadata": {
        "_uuid": "0b631f22cb8a6a566eb1bfd7f07d4e1604f04841",
        "id": "IMVVpXoeqhAR",
        "colab_type": "text"
      },
      "cell_type": "markdown",
      "source": [
        "## Solution"
      ]
    },
    {
      "metadata": {
        "trusted": true,
        "_uuid": "e9ca033fc92f8f1d54bb3d9b4757596783ec6acc",
        "id": "YZoaYUyxqhAS",
        "colab_type": "code",
        "colab": {}
      },
      "cell_type": "code",
      "source": [
        "train_new[train_new['Rating'] == 3.8].mean()"
      ],
      "execution_count": 0,
      "outputs": []
    },
    {
      "metadata": {
        "trusted": true,
        "_uuid": "359ae9308754749b633b3750367e51bebe84a24a",
        "id": "gQQkdimrqhAV",
        "colab_type": "code",
        "colab": {}
      },
      "cell_type": "code",
      "source": [
        "\"\"\"\n",
        "WRITE YOUR MODELLING CODE HERE\n",
        "\"\"\""
      ],
      "execution_count": 0,
      "outputs": []
    },
    {
      "metadata": {
        "trusted": true,
        "_uuid": "58f1d84280829884d968bd2675163f3734b3939e",
        "id": "R1J_VFWFqhAY",
        "colab_type": "code",
        "colab": {}
      },
      "cell_type": "code",
      "source": [
        "train_n = train_new.copy()"
      ],
      "execution_count": 0,
      "outputs": []
    },
    {
      "metadata": {
        "trusted": true,
        "_uuid": "2964545e3b41a1002a91e4c86ad625ac3fc13a62",
        "id": "fX0N7Ih_qhAa",
        "colab_type": "code",
        "colab": {}
      },
      "cell_type": "code",
      "source": [
        "train_new['RAM']=train_n['RAM'].replace(512,0.5)\n",
        "train_n = train_new.copy()"
      ],
      "execution_count": 0,
      "outputs": []
    },
    {
      "metadata": {
        "trusted": true,
        "_uuid": "979e682fdc631ca21f54a5482c50d9b43b29c251",
        "id": "nRyjJbRUqhAe",
        "colab_type": "code",
        "colab": {}
      },
      "cell_type": "code",
      "source": [
        "train_new['RAM']=train_n['RAM'].replace(16,0.15)\n",
        "train_n = train_new.copy()"
      ],
      "execution_count": 0,
      "outputs": []
    },
    {
      "metadata": {
        "trusted": true,
        "_uuid": "425a1e11c5babfbc7112a01c6a94fff470c9263a",
        "id": "dUNrYCCXqhAg",
        "colab_type": "code",
        "colab": {}
      },
      "cell_type": "code",
      "source": [
        "train_new['RAM']=train_n['RAM'].replace(32,0.3)\n",
        "train_n = train_new.copy()"
      ],
      "execution_count": 0,
      "outputs": []
    },
    {
      "metadata": {
        "trusted": true,
        "_uuid": "5d0c07c94afc13a18f73c56a427b2945277c1d68",
        "id": "8pS7wDfyqhAi",
        "colab_type": "code",
        "colab": {}
      },
      "cell_type": "code",
      "source": [
        "train_new['RAM']=train_n['RAM'].replace(64,0.45)\n",
        "train_n = train_new.copy()"
      ],
      "execution_count": 0,
      "outputs": []
    },
    {
      "metadata": {
        "trusted": true,
        "_uuid": "2efd39ae5246b72876ba84857a175192828190a4",
        "id": "op9Bew8NqhAo",
        "colab_type": "code",
        "colab": {}
      },
      "cell_type": "code",
      "source": [
        "train_s = test_new"
      ],
      "execution_count": 0,
      "outputs": []
    },
    {
      "metadata": {
        "trusted": true,
        "_uuid": "a0ef8967bcd9c6eaf7024737cb67b8a43c0b0c85",
        "id": "Y_HDW3KCqhAr",
        "colab_type": "code",
        "colab": {}
      },
      "cell_type": "code",
      "source": [
        "test_new['RAM'] = train_s['RAM'].replace(512,0.5)\n",
        "train_s = test_new\n",
        "test_new['RAM']=train_s['RAM'].replace(16,0.15)\n",
        "train_s = test_new\n",
        "test_new['RAM']=train_s['RAM'].replace(32,0.3)\n",
        "train_s = test_new\n",
        "test_new['RAM']=train_s['RAM'].replace(64,0.45)\n",
        "train_s = test_new"
      ],
      "execution_count": 0,
      "outputs": []
    },
    {
      "metadata": {
        "trusted": true,
        "_uuid": "3a64fd2493f7bd06e2d0814739b2d6df6dba5b6e",
        "id": "NZvmQ6-iqhAu",
        "colab_type": "code",
        "colab": {}
      },
      "cell_type": "code",
      "source": [
        ""
      ],
      "execution_count": 0,
      "outputs": []
    },
    {
      "metadata": {
        "trusted": true,
        "_uuid": "3fa0f84f86687e0a77cf13bd7e69b14699774ae4",
        "id": "vQcu6j_3qhAw",
        "colab_type": "code",
        "colab": {}
      },
      "cell_type": "code",
      "source": [
        "X_binarised_3_train = train_n['Rating'].map(lambda x: 0 if x<4.0 else 1)\n",
        "train_new['Rating'] = X_binarised_3_train"
      ],
      "execution_count": 0,
      "outputs": []
    },
    {
      "metadata": {
        "trusted": true,
        "_uuid": "f495da64427e9b8f720c8267b3191fa464327492",
        "id": "nJ6CNPiDqhAz",
        "colab_type": "code",
        "colab": {}
      },
      "cell_type": "code",
      "source": [
        "import matplotlib.pyplot as plt\n",
        "from sklearn.model_selection import train_test_split"
      ],
      "execution_count": 0,
      "outputs": []
    },
    {
      "metadata": {
        "trusted": true,
        "_uuid": "d9450c54754a158f5afdd2586d9764056885dba0",
        "id": "zBkaXGNAqhA4",
        "colab_type": "code",
        "colab": {}
      },
      "cell_type": "code",
      "source": [
        "Y = train_new['Rating']\n",
        "X1 = train_new.drop('Rating',axis =1)\n",
        "X = X1.drop('PhoneId',axis=1)"
      ],
      "execution_count": 0,
      "outputs": []
    },
    {
      "metadata": {
        "trusted": true,
        "_uuid": "4f020c59aeec388324175a3955806c33f0e456c6",
        "id": "aK1nmMxmqhA8",
        "colab_type": "code",
        "colab": {}
      },
      "cell_type": "code",
      "source": [
        "X_final = test_new.drop('PhoneId',axis=1)"
      ],
      "execution_count": 0,
      "outputs": []
    },
    {
      "metadata": {
        "trusted": true,
        "_uuid": "fb14355126c415462b88b8e25ed839247be4f326",
        "id": "WXNxCq6dqhA_",
        "colab_type": "code",
        "colab": {}
      },
      "cell_type": "code",
      "source": [
        "##Normalization\n",
        "import numpy as np\n",
        "import pandas as pd"
      ],
      "execution_count": 0,
      "outputs": []
    },
    {
      "metadata": {
        "trusted": true,
        "_uuid": "bb3ef850aeb4dda27106cf804e9e08698a2f2453",
        "id": "qeJCrEHaqhBB",
        "colab_type": "code",
        "colab": {}
      },
      "cell_type": "code",
      "source": [
        "X['Processor_frequency']=((X['Processor_frequency']-X['Processor_frequency'].min())/(X['Processor_frequency'].max()-X['Processor_frequency'].min()))\n"
      ],
      "execution_count": 0,
      "outputs": []
    },
    {
      "metadata": {
        "trusted": true,
        "_uuid": "7b654166b105756c926b70b7abd224d49f356804",
        "id": "oEWhPWT4qhBD",
        "colab_type": "code",
        "colab": {}
      },
      "cell_type": "code",
      "source": [
        "X['Internal Memory']=((X['Internal Memory']-X['Internal Memory'].min())/(X['Internal Memory'].max()-X['Internal Memory'].min()))"
      ],
      "execution_count": 0,
      "outputs": []
    },
    {
      "metadata": {
        "trusted": true,
        "_uuid": "14f9696fb19f32832bdc2763872e7b458133aff9",
        "id": "4FJxy-ABqhBE",
        "colab_type": "code",
        "colab": {}
      },
      "cell_type": "code",
      "source": [
        "X['Weight']=((X['Weight']-X['Weight'].min())/(X['Weight'].max()-X['Weight'].min()))"
      ],
      "execution_count": 0,
      "outputs": []
    },
    {
      "metadata": {
        "trusted": true,
        "_uuid": "453952fe76e125fb54d297fe8a9737341bc1c073",
        "id": "xkh3p_OpqhBH",
        "colab_type": "code",
        "colab": {}
      },
      "cell_type": "code",
      "source": [
        "X['Screen Size']=((X['Screen Size']-X['Screen Size'].min())/(X['Screen Size'].max()-X['Screen Size'].min()))"
      ],
      "execution_count": 0,
      "outputs": []
    },
    {
      "metadata": {
        "trusted": true,
        "_uuid": "4707596d35cc0b2e1dda8a3617557c7ccf80421e",
        "id": "M8KKA_RYqhBK",
        "colab_type": "code",
        "colab": {}
      },
      "cell_type": "code",
      "source": [
        "X['Height']=((X['Height']-X['Height'].min())/(X['Height'].max()-X['Height'].min()))"
      ],
      "execution_count": 0,
      "outputs": []
    },
    {
      "metadata": {
        "trusted": true,
        "_uuid": "e4ca98b7cb671820db7bc159298aee69d51d3270",
        "id": "i_gKT8tSqhBN",
        "colab_type": "code",
        "colab": {}
      },
      "cell_type": "code",
      "source": [
        "X['Screen to Body Ratio (calculated)']=((X['Screen to Body Ratio (calculated)']-X['Screen to Body Ratio (calculated)'].min())/(X['Screen to Body Ratio (calculated)'].max()-X['Screen to Body Ratio (calculated)'].min()))"
      ],
      "execution_count": 0,
      "outputs": []
    },
    {
      "metadata": {
        "trusted": true,
        "_uuid": "948ac780a19750bf8e368dec6e9d62265a0c2df1",
        "id": "HLcY_2AfqhBP",
        "colab_type": "code",
        "colab": {}
      },
      "cell_type": "code",
      "source": [
        "X['RAM']=((X['RAM']-X['RAM'].min())/(X['RAM'].max()-X['RAM'].min()))"
      ],
      "execution_count": 0,
      "outputs": []
    },
    {
      "metadata": {
        "trusted": true,
        "_uuid": "f50040e526b08bdafc959db5c82d49f1871be67a",
        "id": "qjPkYTfmqhBW",
        "colab_type": "code",
        "colab": {}
      },
      "cell_type": "code",
      "source": [
        "X['Resolution']=((X['Resolution']-X['Resolution'].min())/(X['Resolution'].max()-X['Resolution'].min()))"
      ],
      "execution_count": 0,
      "outputs": []
    },
    {
      "metadata": {
        "trusted": true,
        "_uuid": "9b05b1fdb154d65427b472ca778b9a26efaad0f3",
        "id": "uTGG5mnJqhBd",
        "colab_type": "code",
        "colab": {}
      },
      "cell_type": "code",
      "source": [
        "X['Capacity']=((X['Capacity']-X['Capacity'].min())/(X['Capacity'].max()-X['Capacity'].min()))"
      ],
      "execution_count": 0,
      "outputs": []
    },
    {
      "metadata": {
        "trusted": true,
        "_uuid": "a1449078ba184fab59cb0d404af4a98611f960c5",
        "id": "j2NpqSgNqhBh",
        "colab_type": "code",
        "colab": {}
      },
      "cell_type": "code",
      "source": [
        "X['Pixel Density']=((X['Pixel Density']-X['Pixel Density'].min())/(X['Pixel Density'].max()-X['Pixel Density'].min()))"
      ],
      "execution_count": 0,
      "outputs": []
    },
    {
      "metadata": {
        "trusted": true,
        "_uuid": "3222cc847e528657dae321c988c2b1c1929be7c7",
        "id": "aDBgI4PdqhBm",
        "colab_type": "code",
        "colab": {}
      },
      "cell_type": "code",
      "source": [
        ""
      ],
      "execution_count": 0,
      "outputs": []
    },
    {
      "metadata": {
        "trusted": true,
        "_uuid": "ba4eb60d83c8402572cfc90e7ea50a9852966bfa",
        "id": "gyCGRbLhqhBt",
        "colab_type": "code",
        "colab": {}
      },
      "cell_type": "code",
      "source": [
        "X_final['Processor_frequency']=((X_final['Processor_frequency']-train_new['Processor_frequency'].min())/(train_new['Processor_frequency'].max()-train_new['Processor_frequency'].min()))\n",
        "X_final['Internal Memory']=((X_final['Internal Memory']-train_new['Internal Memory'].min())/(train_new['Internal Memory'].max()-train_new['Internal Memory'].min()))\n",
        "X_final['Weight']=((X_final['Weight']-train_new['Weight'].min())/(train_new['Weight'].max()-train_new['Weight'].min()))\n",
        "X_final['Screen Size']=((X_final['Screen Size']-train_new['Screen Size'].min())/train_new['Screen Size'].max()-train_new['Screen Size'].min()))\n",
        "X_final['Height']=((X_final['Height']-train_new['Height'].min())/(train_new['Height'].max()-train_new['Height'].min()))\n",
        "X_final['Screen to Body Ratio (calculated)']=((X_final['Screen to Body Ratio (calculated)']-train_new['Screen to Body Ratio (calculated)'].min())/(train_new['Screen to Body Ratio (calculated)'].max()-train_new['Screen to Body Ratio (calculated)'].min()))\n",
        "X_final['RAM']=((X_final['RAM']-train_new['RAM'].min())/(train_new['RAM'].max()-train_new['RAM'].min()))\n",
        "X_final['Resolution']=((X_final['Resolution']-train_new['Resolution'].min())/(train_new['Resolution'].max()-train_new['Resolution'].min()))\n",
        "X_final['Capacity']=((X_final['Capacity']-train_new['Capacity'].min())/(train_new['Capacity'].max()-train_new['Capacity'].min()))\n",
        "X_final['Pixel Density']=((X_final['Pixel Density']-train_new['Pixel Density'].min())/(train_new['Pixel Density'].max()-train_new['Pixel Density'].min()))\n"
      ],
      "execution_count": 0,
      "outputs": []
    },
    {
      "metadata": {
        "trusted": true,
        "_uuid": "412e30c009fd91eaa19a7165ca37876bac0c03ee",
        "id": "4Snwsp_wqhBx",
        "colab_type": "code",
        "colab": {}
      },
      "cell_type": "code",
      "source": [
        "X_train, X_test,Y_train,Y_test = train_test_split(X,Y,test_size=0.1,stratify = Y ,random_state = 1)"
      ],
      "execution_count": 0,
      "outputs": []
    },
    {
      "metadata": {
        "trusted": true,
        "_uuid": "bfcb44c2a095832583d086e822d47bf2d8966705",
        "id": "88Xfhh1kqhB0",
        "colab_type": "code",
        "colab": {}
      },
      "cell_type": "code",
      "source": [
        "X_test = X_test.values\n",
        "X_train = X_train.values"
      ],
      "execution_count": 0,
      "outputs": []
    },
    {
      "metadata": {
        "trusted": true,
        "_uuid": "b7edd7c1859c0dde74f918cfa6874abc4651ce76",
        "id": "YGp-F5ogqhB3",
        "colab_type": "code",
        "colab": {}
      },
      "cell_type": "code",
      "source": [
        "class Perceptron:\n",
        "  def __init__(self):\n",
        "    self.w = None\n",
        "    self.b = None\n",
        "    \n",
        "  def model(self,x):\n",
        "    return 1 if np.dot(self.w,x) >= self.b else 0 \n",
        "    \n",
        "  def predict(self, X):\n",
        "    Y = []\n",
        "    for x in X:\n",
        "      result = self.model(x)\n",
        "      Y.append(result)\n",
        "    return np.asarray(Y)\n",
        "    \n",
        "  def fit(self,X,Y,epochs = 1):\n",
        "    self.w = np.ones(X.shape[1])\n",
        "    self.b = 0\n",
        "    accuracy = {}\n",
        "    max_acc = 0\n",
        "    \n",
        "    \n",
        "    for i in range(epochs):\n",
        "      for x,y in zip(X,Y):\n",
        "        y_pred = self.model(x)\n",
        "        if y == 1 and y_pred == 0:\n",
        "          self.w = self.w + x\n",
        "          self.b = self.b + 1\n",
        "        elif y == 0 and y_pred == 1:\n",
        "          self.w = self.w - x\n",
        "          self.b = self.b - 1\n",
        "      accuracy[i] = accuracy_score(self.predict(X),Y)\n",
        "      if accuracy[i] >= max_acc:\n",
        "        max_acc = accuracy[i]\n",
        "        chkptw = self.w\n",
        "        chkptwb= self.b\n",
        "        \n",
        "        \n",
        "    self.w = chkptw\n",
        "    self.b = chkptwb\n",
        "    print(max_acc)\n",
        "    plt.plot(accuracy.values())\n",
        "    plt.show()"
      ],
      "execution_count": 0,
      "outputs": []
    },
    {
      "metadata": {
        "trusted": true,
        "_uuid": "5d522d153fc17cc9e77d1830e8082fc65bed2035",
        "id": "Wu_cTkj3qhB-",
        "colab_type": "code",
        "colab": {}
      },
      "cell_type": "code",
      "source": [
        "perceptron = Perceptron()"
      ],
      "execution_count": 0,
      "outputs": []
    },
    {
      "metadata": {
        "trusted": true,
        "_uuid": "6bd28a7f5379d2e1ebf73946badfb66bb580b50f",
        "id": "yL0hSZ-vqhCB",
        "colab_type": "code",
        "colab": {}
      },
      "cell_type": "code",
      "source": [
        "from sklearn.metrics import accuracy_score"
      ],
      "execution_count": 0,
      "outputs": []
    },
    {
      "metadata": {
        "trusted": true,
        "_uuid": "f529e6d3291f05b1aa765da2d88bc5c3c9d9abc7",
        "id": "sl2pFxlTqhCG",
        "colab_type": "code",
        "colab": {},
        "outputId": "1222e8e7-285f-4a0e-ddf6-21175ce07b1a"
      },
      "cell_type": "code",
      "source": [
        "perceptron.fit(X_train, Y_train,10000)"
      ],
      "execution_count": 0,
      "outputs": [
        {
          "output_type": "stream",
          "text": [
            "0.8725490196078431\n"
          ],
          "name": "stdout"
        },
        {
          "output_type": "display_data",
          "data": {
            "text/plain": [
              "<Figure size 432x288 with 1 Axes>"
            ],
            "image/png": "[encoded data removed]"
          },
          "metadata": {
            "tags": []
          }
        }
      ]
    },
    {
      "metadata": {
        "trusted": true,
        "_uuid": "3504194052a19b85eef1e9a293f491aebd25fc30",
        "id": "2ac3WB06qhCI",
        "colab_type": "code",
        "colab": {},
        "outputId": "1ce916e7-e03e-4a0a-af14-6599a3b9c37c"
      },
      "cell_type": "code",
      "source": [
        "perceptron.fit(X_train, Y_train,5000)"
      ],
      "execution_count": 0,
      "outputs": [
        {
          "output_type": "stream",
          "text": [
            "0.8725490196078431\n"
          ],
          "name": "stdout"
        },
        {
          "output_type": "display_data",
          "data": {
            "text/plain": [
              "<Figure size 432x288 with 1 Axes>"
            ],
            "image/png": "[encoded data removed]"
          },
          "metadata": {
            "tags": []
          }
        }
      ]
    },
    {
      "metadata": {
        "trusted": true,
        "_uuid": "9860460096d81f1cf967ca838668f04b90b83c8d",
        "id": "iCCN5F63qhCN",
        "colab_type": "code",
        "colab": {}
      },
      "cell_type": "code",
      "source": [
        "class Perceptron:\n",
        "  def __init__(self):\n",
        "    self.w = None\n",
        "    self.b = None\n",
        "    \n",
        "  def model(self,x):\n",
        "    return 1 if np.dot(self.w,x) >= self.b else 0 \n",
        "    \n",
        "  def predict(self, X):\n",
        "    Y = []\n",
        "    for x in X:\n",
        "      result = self.model(x)\n",
        "      Y.append(result)\n",
        "    return np.asarray(Y)\n",
        "    \n",
        "  def fit(self,X,Y,epochs = 1,lr = 1):\n",
        "    self.w = np.ones(X.shape[1])\n",
        "    self.b = 0\n",
        "    accuracy = {}\n",
        "    max_acc = 0\n",
        "    \n",
        "    \n",
        "    for i in range(epochs):\n",
        "      for x,y in zip(X,Y):\n",
        "        y_pred = self.model(x)\n",
        "        if y == 1 and y_pred == 0:\n",
        "          self.w = self.w + lr*x\n",
        "          self.b = self.b + lr*1\n",
        "        elif y == 0 and y_pred == 1:\n",
        "          self.w = self.w - lr*x\n",
        "          self.b = self.b - lr*1\n",
        "      accuracy[i] = accuracy_score(self.predict(X),Y)\n",
        "      if accuracy[i] >= max_acc:\n",
        "        max_acc = accuracy[i]\n",
        "        chkptw = self.w\n",
        "        chkptwb= self.b\n",
        "        \n",
        "        \n",
        "    self.w = chkptw\n",
        "    self.b = chkptwb\n",
        "    print(max_acc)\n",
        "    plt.plot(accuracy.values())\n",
        "    plt.ylim([0,1])\n",
        "    plt.show()"
      ],
      "execution_count": 0,
      "outputs": []
    },
    {
      "metadata": {
        "trusted": true,
        "_uuid": "f138541c0f16eb9d7d8760865fda3b091156950b",
        "id": "R2UMhQS1qhCS",
        "colab_type": "code",
        "colab": {}
      },
      "cell_type": "code",
      "source": [
        "perceptron = Perceptron()"
      ],
      "execution_count": 0,
      "outputs": []
    },
    {
      "metadata": {
        "trusted": true,
        "_uuid": "0a61d2eb0c0b4aed9e9c43a59ceb6d6cd07738af",
        "id": "jghGAbYgqhCV",
        "colab_type": "code",
        "colab": {}
      },
      "cell_type": "code",
      "source": [
        ""
      ],
      "execution_count": 0,
      "outputs": []
    },
    {
      "metadata": {
        "trusted": true,
        "_uuid": "4b56e60e87136e3dae31f1e5976dd85ac3d48c63",
        "id": "BLIri_rWqhCX",
        "colab_type": "code",
        "colab": {}
      },
      "cell_type": "code",
      "source": [
        "perceptron.fit(X_train, Y_train,1000000,0.1)"
      ],
      "execution_count": 0,
      "outputs": []
    },
    {
      "metadata": {
        "trusted": true,
        "_uuid": "64d7280d57170bf049750d65dc40566e9390e02b",
        "id": "uVWf3fweqhCf",
        "colab_type": "code",
        "colab": {},
        "outputId": "16ce3b63-5d74-4dec-9ccd-32a705723b1a"
      },
      "cell_type": "code",
      "source": [
        "Y_pred_test = perceptron.predict(X_test)\n",
        "print(accuracy_score(Y_pred_test,Y_test))"
      ],
      "execution_count": 0,
      "outputs": [
        {
          "output_type": "stream",
          "text": [
            "0.7428571428571429\n"
          ],
          "name": "stdout"
        }
      ]
    },
    {
      "metadata": {
        "trusted": true,
        "_uuid": "10d1f4739a1b842633e2cb34fc8a43ad9eba2e5a",
        "id": "QR3jo6iUqhCk",
        "colab_type": "code",
        "colab": {},
        "outputId": "f3af2bf3-e0a4-4dfa-8b11-0dfb4b163931"
      },
      "cell_type": "code",
      "source": [
        "plt.plot(perceptron.w)\n",
        "plt.show()"
      ],
      "execution_count": 0,
      "outputs": [
        {
          "output_type": "display_data",
          "data": {
            "text/plain": [
              "<Figure size 432x288 with 1 Axes>"
            ],
            "image/png": "[encoded data removed]"
          },
          "metadata": {
            "tags": []
          }
        }
      ]
    },
    {
      "metadata": {
        "trusted": true,
        "_uuid": "501bd2c05bfa24021f4a2f26157e75d4b57e0b8a",
        "id": "kMcUSyfOqhCp",
        "colab_type": "code",
        "colab": {},
        "outputId": "41dd5a98-cc5e-4c11-c79d-bf49219a86b2"
      },
      "cell_type": "code",
      "source": [
        "X_final = X_final.values"
      ],
      "execution_count": 0,
      "outputs": [
        {
          "output_type": "error",
          "ename": "AttributeError",
          "evalue": "'numpy.ndarray' object has no attribute 'values'",
          "traceback": [
            "\u001b[0;31m---------------------------------------------------------------------------\u001b[0m",
            "\u001b[0;31mAttributeError\u001b[0m                            Traceback (most recent call last)",
            "\u001b[0;32m<ipython-input-65-e82c4bab28e7>\u001b[0m in \u001b[0;36m<module>\u001b[0;34m()\u001b[0m\n\u001b[0;32m----> 1\u001b[0;31m \u001b[0mX_final\u001b[0m \u001b[0;34m=\u001b[0m \u001b[0mX_final\u001b[0m\u001b[0;34m.\u001b[0m\u001b[0mvalues\u001b[0m\u001b[0;34m\u001b[0m\u001b[0m\n\u001b[0m",
            "\u001b[0;31mAttributeError\u001b[0m: 'numpy.ndarray' object has no attribute 'values'"
          ]
        }
      ]
    },
    {
      "metadata": {
        "trusted": true,
        "_uuid": "96745d8f2af20f90d22ad07c2db3f322a91d1385",
        "id": "5Jm7GFIiqhCt",
        "colab_type": "code",
        "colab": {}
      },
      "cell_type": "code",
      "source": [
        "Y_pred_test = perceptron.predict(X_final)"
      ],
      "execution_count": 0,
      "outputs": []
    },
    {
      "metadata": {
        "trusted": true,
        "_uuid": "b48a1aaa8fd74324f3ea9225673cbc38f099c6ff",
        "id": "dOiXxt3wqhCx",
        "colab_type": "code",
        "colab": {}
      },
      "cell_type": "code",
      "source": [
        "os.chdir(\"/kaggle/working/\")"
      ],
      "execution_count": 0,
      "outputs": []
    },
    {
      "metadata": {
        "trusted": true,
        "_uuid": "0fe3f736f25f324e1350f41549b96f25366d7643",
        "id": "ikHNKm4_qhCz",
        "colab_type": "code",
        "colab": {},
        "outputId": "0095c79a-2e69-48c2-ee34-3b33256bb8f2"
      },
      "cell_type": "code",
      "source": [
        "submission = pd.DataFrame({'PhoneId':test_new['PhoneId'], 'Class':Y_pred_test})\n",
        "submission = submission[['PhoneId', 'Class']]\n",
        "submission.describe()"
      ],
      "execution_count": 0,
      "outputs": [
        {
          "output_type": "execute_result",
          "data": {
            "text/plain": [
              "          PhoneId       Class\n",
              "count  119.000000  119.000000\n",
              "mean   240.176471    0.932773\n",
              "std    136.804614    0.251473\n",
              "min      3.000000    0.000000\n",
              "25%    130.000000    1.000000\n",
              "50%    245.000000    1.000000\n",
              "75%    348.500000    1.000000\n",
              "max    473.000000    1.000000"
            ],
            "text/html": [
              "<div>\n",
              "<style scoped>\n",
              "    .dataframe tbody tr th:only-of-type {\n",
              "        vertical-align: middle;\n",
              "    }\n",
              "\n",
              "    .dataframe tbody tr th {\n",
              "        vertical-align: top;\n",
              "    }\n",
              "\n",
              "    .dataframe thead th {\n",
              "        text-align: right;\n",
              "    }\n",
              "</style>\n",
              "<table border=\"1\" class=\"dataframe\">\n",
              "  <thead>\n",
              "    <tr style=\"text-align: right;\">\n",
              "      <th></th>\n",
              "      <th>PhoneId</th>\n",
              "      <th>Class</th>\n",
              "    </tr>\n",
              "  </thead>\n",
              "  <tbody>\n",
              "    <tr>\n",
              "      <th>count</th>\n",
              "      <td>119.000000</td>\n",
              "      <td>119.000000</td>\n",
              "    </tr>\n",
              "    <tr>\n",
              "      <th>mean</th>\n",
              "      <td>240.176471</td>\n",
              "      <td>0.932773</td>\n",
              "    </tr>\n",
              "    <tr>\n",
              "      <th>std</th>\n",
              "      <td>136.804614</td>\n",
              "      <td>0.251473</td>\n",
              "    </tr>\n",
              "    <tr>\n",
              "      <th>min</th>\n",
              "      <td>3.000000</td>\n",
              "      <td>0.000000</td>\n",
              "    </tr>\n",
              "    <tr>\n",
              "      <th>25%</th>\n",
              "      <td>130.000000</td>\n",
              "      <td>1.000000</td>\n",
              "    </tr>\n",
              "    <tr>\n",
              "      <th>50%</th>\n",
              "      <td>245.000000</td>\n",
              "      <td>1.000000</td>\n",
              "    </tr>\n",
              "    <tr>\n",
              "      <th>75%</th>\n",
              "      <td>348.500000</td>\n",
              "      <td>1.000000</td>\n",
              "    </tr>\n",
              "    <tr>\n",
              "      <th>max</th>\n",
              "      <td>473.000000</td>\n",
              "      <td>1.000000</td>\n",
              "    </tr>\n",
              "  </tbody>\n",
              "</table>\n",
              "</div>"
            ]
          },
          "metadata": {
            "tags": []
          },
          "execution_count": 81
        }
      ]
    },
    {
      "metadata": {
        "trusted": true,
        "_uuid": "cb76c4b25dfaf04cd0f71b0831137836221aaae3",
        "id": "5Z5YgZrOqhC1",
        "colab_type": "code",
        "colab": {}
      },
      "cell_type": "code",
      "source": [
        "submission.to_csv(\"submission.csv\", index=False)"
      ],
      "execution_count": 0,
      "outputs": []
    },
    {
      "metadata": {
        "trusted": true,
        "_uuid": "aed3dfd7afd9dcd1d8c4f131864e4c1544469227",
        "id": "0GBa-4afqhC2",
        "colab_type": "code",
        "colab": {}
      },
      "cell_type": "code",
      "source": [
        ""
      ],
      "execution_count": 0,
      "outputs": []
    }
  ]
}